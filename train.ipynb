{
  "metadata": {
    "kernelspec": {
      "name": "python3",
      "display_name": "Python 3",
      "language": "python"
    },
    "language_info": {
      "name": "python",
      "version": "3.11.13",
      "mimetype": "text/x-python",
      "codemirror_mode": {
        "name": "ipython",
        "version": 3
      },
      "pygments_lexer": "ipython3",
      "nbconvert_exporter": "python",
      "file_extension": ".py"
    },
    "colab": {
      "provenance": [],
      "gpuType": "T4"
    },
    "accelerator": "GPU",
    "widgets": {
      "application/vnd.jupyter.widget-state+json": {
        "db2213c43cb9433dbd544843ba4957dc": {
          "model_module": "@jupyter-widgets/controls",
          "model_name": "HBoxModel",
          "model_module_version": "1.5.0",
          "state": {
            "_dom_classes": [],
            "_model_module": "@jupyter-widgets/controls",
            "_model_module_version": "1.5.0",
            "_model_name": "HBoxModel",
            "_view_count": null,
            "_view_module": "@jupyter-widgets/controls",
            "_view_module_version": "1.5.0",
            "_view_name": "HBoxView",
            "box_style": "",
            "children": [
              "IPY_MODEL_8474086204014c209b4d9107511e1038",
              "IPY_MODEL_b40a5d713e7a43a1b620730f0d683d07",
              "IPY_MODEL_b9c6f2d49aca4c18ae6ae87434b65aba"
            ],
            "layout": "IPY_MODEL_845ac86377934792aac724d721e4b4a5"
          }
        },
        "8474086204014c209b4d9107511e1038": {
          "model_module": "@jupyter-widgets/controls",
          "model_name": "HTMLModel",
          "model_module_version": "1.5.0",
          "state": {
            "_dom_classes": [],
            "_model_module": "@jupyter-widgets/controls",
            "_model_module_version": "1.5.0",
            "_model_name": "HTMLModel",
            "_view_count": null,
            "_view_module": "@jupyter-widgets/controls",
            "_view_module_version": "1.5.0",
            "_view_name": "HTMLView",
            "description": "",
            "description_tooltip": null,
            "layout": "IPY_MODEL_740f748f52384a8285fcdc6206a3a528",
            "placeholder": "​",
            "style": "IPY_MODEL_8b78ab99dd2a4d5a910f66193d20ae28",
            "value": "Map: 100%"
          }
        },
        "b40a5d713e7a43a1b620730f0d683d07": {
          "model_module": "@jupyter-widgets/controls",
          "model_name": "FloatProgressModel",
          "model_module_version": "1.5.0",
          "state": {
            "_dom_classes": [],
            "_model_module": "@jupyter-widgets/controls",
            "_model_module_version": "1.5.0",
            "_model_name": "FloatProgressModel",
            "_view_count": null,
            "_view_module": "@jupyter-widgets/controls",
            "_view_module_version": "1.5.0",
            "_view_name": "ProgressView",
            "bar_style": "success",
            "description": "",
            "description_tooltip": null,
            "layout": "IPY_MODEL_31d5174685844ae79833335239e9526c",
            "max": 7227,
            "min": 0,
            "orientation": "horizontal",
            "style": "IPY_MODEL_e9f3e9766250481fbd33efe407c92f68",
            "value": 7227
          }
        },
        "b9c6f2d49aca4c18ae6ae87434b65aba": {
          "model_module": "@jupyter-widgets/controls",
          "model_name": "HTMLModel",
          "model_module_version": "1.5.0",
          "state": {
            "_dom_classes": [],
            "_model_module": "@jupyter-widgets/controls",
            "_model_module_version": "1.5.0",
            "_model_name": "HTMLModel",
            "_view_count": null,
            "_view_module": "@jupyter-widgets/controls",
            "_view_module_version": "1.5.0",
            "_view_name": "HTMLView",
            "description": "",
            "description_tooltip": null,
            "layout": "IPY_MODEL_f8fb6e9c5f0e4a8a8933a02e9bb8cc1d",
            "placeholder": "​",
            "style": "IPY_MODEL_c5047be1fa3c477391e32fb5fbd5dbac",
            "value": " 7227/7227 [00:01&lt;00:00, 9494.70 examples/s]"
          }
        },
        "845ac86377934792aac724d721e4b4a5": {
          "model_module": "@jupyter-widgets/base",
          "model_name": "LayoutModel",
          "model_module_version": "1.2.0",
          "state": {
            "_model_module": "@jupyter-widgets/base",
            "_model_module_version": "1.2.0",
            "_model_name": "LayoutModel",
            "_view_count": null,
            "_view_module": "@jupyter-widgets/base",
            "_view_module_version": "1.2.0",
            "_view_name": "LayoutView",
            "align_content": null,
            "align_items": null,
            "align_self": null,
            "border": null,
            "bottom": null,
            "display": null,
            "flex": null,
            "flex_flow": null,
            "grid_area": null,
            "grid_auto_columns": null,
            "grid_auto_flow": null,
            "grid_auto_rows": null,
            "grid_column": null,
            "grid_gap": null,
            "grid_row": null,
            "grid_template_areas": null,
            "grid_template_columns": null,
            "grid_template_rows": null,
            "height": null,
            "justify_content": null,
            "justify_items": null,
            "left": null,
            "margin": null,
            "max_height": null,
            "max_width": null,
            "min_height": null,
            "min_width": null,
            "object_fit": null,
            "object_position": null,
            "order": null,
            "overflow": null,
            "overflow_x": null,
            "overflow_y": null,
            "padding": null,
            "right": null,
            "top": null,
            "visibility": null,
            "width": null
          }
        },
        "740f748f52384a8285fcdc6206a3a528": {
          "model_module": "@jupyter-widgets/base",
          "model_name": "LayoutModel",
          "model_module_version": "1.2.0",
          "state": {
            "_model_module": "@jupyter-widgets/base",
            "_model_module_version": "1.2.0",
            "_model_name": "LayoutModel",
            "_view_count": null,
            "_view_module": "@jupyter-widgets/base",
            "_view_module_version": "1.2.0",
            "_view_name": "LayoutView",
            "align_content": null,
            "align_items": null,
            "align_self": null,
            "border": null,
            "bottom": null,
            "display": null,
            "flex": null,
            "flex_flow": null,
            "grid_area": null,
            "grid_auto_columns": null,
            "grid_auto_flow": null,
            "grid_auto_rows": null,
            "grid_column": null,
            "grid_gap": null,
            "grid_row": null,
            "grid_template_areas": null,
            "grid_template_columns": null,
            "grid_template_rows": null,
            "height": null,
            "justify_content": null,
            "justify_items": null,
            "left": null,
            "margin": null,
            "max_height": null,
            "max_width": null,
            "min_height": null,
            "min_width": null,
            "object_fit": null,
            "object_position": null,
            "order": null,
            "overflow": null,
            "overflow_x": null,
            "overflow_y": null,
            "padding": null,
            "right": null,
            "top": null,
            "visibility": null,
            "width": null
          }
        },
        "8b78ab99dd2a4d5a910f66193d20ae28": {
          "model_module": "@jupyter-widgets/controls",
          "model_name": "DescriptionStyleModel",
          "model_module_version": "1.5.0",
          "state": {
            "_model_module": "@jupyter-widgets/controls",
            "_model_module_version": "1.5.0",
            "_model_name": "DescriptionStyleModel",
            "_view_count": null,
            "_view_module": "@jupyter-widgets/base",
            "_view_module_version": "1.2.0",
            "_view_name": "StyleView",
            "description_width": ""
          }
        },
        "31d5174685844ae79833335239e9526c": {
          "model_module": "@jupyter-widgets/base",
          "model_name": "LayoutModel",
          "model_module_version": "1.2.0",
          "state": {
            "_model_module": "@jupyter-widgets/base",
            "_model_module_version": "1.2.0",
            "_model_name": "LayoutModel",
            "_view_count": null,
            "_view_module": "@jupyter-widgets/base",
            "_view_module_version": "1.2.0",
            "_view_name": "LayoutView",
            "align_content": null,
            "align_items": null,
            "align_self": null,
            "border": null,
            "bottom": null,
            "display": null,
            "flex": null,
            "flex_flow": null,
            "grid_area": null,
            "grid_auto_columns": null,
            "grid_auto_flow": null,
            "grid_auto_rows": null,
            "grid_column": null,
            "grid_gap": null,
            "grid_row": null,
            "grid_template_areas": null,
            "grid_template_columns": null,
            "grid_template_rows": null,
            "height": null,
            "justify_content": null,
            "justify_items": null,
            "left": null,
            "margin": null,
            "max_height": null,
            "max_width": null,
            "min_height": null,
            "min_width": null,
            "object_fit": null,
            "object_position": null,
            "order": null,
            "overflow": null,
            "overflow_x": null,
            "overflow_y": null,
            "padding": null,
            "right": null,
            "top": null,
            "visibility": null,
            "width": null
          }
        },
        "e9f3e9766250481fbd33efe407c92f68": {
          "model_module": "@jupyter-widgets/controls",
          "model_name": "ProgressStyleModel",
          "model_module_version": "1.5.0",
          "state": {
            "_model_module": "@jupyter-widgets/controls",
            "_model_module_version": "1.5.0",
            "_model_name": "ProgressStyleModel",
            "_view_count": null,
            "_view_module": "@jupyter-widgets/base",
            "_view_module_version": "1.2.0",
            "_view_name": "StyleView",
            "bar_color": null,
            "description_width": ""
          }
        },
        "f8fb6e9c5f0e4a8a8933a02e9bb8cc1d": {
          "model_module": "@jupyter-widgets/base",
          "model_name": "LayoutModel",
          "model_module_version": "1.2.0",
          "state": {
            "_model_module": "@jupyter-widgets/base",
            "_model_module_version": "1.2.0",
            "_model_name": "LayoutModel",
            "_view_count": null,
            "_view_module": "@jupyter-widgets/base",
            "_view_module_version": "1.2.0",
            "_view_name": "LayoutView",
            "align_content": null,
            "align_items": null,
            "align_self": null,
            "border": null,
            "bottom": null,
            "display": null,
            "flex": null,
            "flex_flow": null,
            "grid_area": null,
            "grid_auto_columns": null,
            "grid_auto_flow": null,
            "grid_auto_rows": null,
            "grid_column": null,
            "grid_gap": null,
            "grid_row": null,
            "grid_template_areas": null,
            "grid_template_columns": null,
            "grid_template_rows": null,
            "height": null,
            "justify_content": null,
            "justify_items": null,
            "left": null,
            "margin": null,
            "max_height": null,
            "max_width": null,
            "min_height": null,
            "min_width": null,
            "object_fit": null,
            "object_position": null,
            "order": null,
            "overflow": null,
            "overflow_x": null,
            "overflow_y": null,
            "padding": null,
            "right": null,
            "top": null,
            "visibility": null,
            "width": null
          }
        },
        "c5047be1fa3c477391e32fb5fbd5dbac": {
          "model_module": "@jupyter-widgets/controls",
          "model_name": "DescriptionStyleModel",
          "model_module_version": "1.5.0",
          "state": {
            "_model_module": "@jupyter-widgets/controls",
            "_model_module_version": "1.5.0",
            "_model_name": "DescriptionStyleModel",
            "_view_count": null,
            "_view_module": "@jupyter-widgets/base",
            "_view_module_version": "1.2.0",
            "_view_name": "StyleView",
            "description_width": ""
          }
        },
        "cecc8a559f6d415c9b66034dca6e16ea": {
          "model_module": "@jupyter-widgets/controls",
          "model_name": "HBoxModel",
          "model_module_version": "1.5.0",
          "state": {
            "_dom_classes": [],
            "_model_module": "@jupyter-widgets/controls",
            "_model_module_version": "1.5.0",
            "_model_name": "HBoxModel",
            "_view_count": null,
            "_view_module": "@jupyter-widgets/controls",
            "_view_module_version": "1.5.0",
            "_view_name": "HBoxView",
            "box_style": "",
            "children": [
              "IPY_MODEL_3477f45fc2834f63ae05515bcf9868ba",
              "IPY_MODEL_7fb08c87fd324d8f8009b08bd5d105b3",
              "IPY_MODEL_b4a1eaf97ac3479bbd2ef97cbc056523"
            ],
            "layout": "IPY_MODEL_bf07c23873c94c29b1bea1cb28e0c919"
          }
        },
        "3477f45fc2834f63ae05515bcf9868ba": {
          "model_module": "@jupyter-widgets/controls",
          "model_name": "HTMLModel",
          "model_module_version": "1.5.0",
          "state": {
            "_dom_classes": [],
            "_model_module": "@jupyter-widgets/controls",
            "_model_module_version": "1.5.0",
            "_model_name": "HTMLModel",
            "_view_count": null,
            "_view_module": "@jupyter-widgets/controls",
            "_view_module_version": "1.5.0",
            "_view_name": "HTMLView",
            "description": "",
            "description_tooltip": null,
            "layout": "IPY_MODEL_ae97e2838a7a4e558f114299ad68fe5c",
            "placeholder": "​",
            "style": "IPY_MODEL_b2ba5d22396c4c83af82ec53c5725cb3",
            "value": "Map: 100%"
          }
        },
        "7fb08c87fd324d8f8009b08bd5d105b3": {
          "model_module": "@jupyter-widgets/controls",
          "model_name": "FloatProgressModel",
          "model_module_version": "1.5.0",
          "state": {
            "_dom_classes": [],
            "_model_module": "@jupyter-widgets/controls",
            "_model_module_version": "1.5.0",
            "_model_name": "FloatProgressModel",
            "_view_count": null,
            "_view_module": "@jupyter-widgets/controls",
            "_view_module_version": "1.5.0",
            "_view_name": "ProgressView",
            "bar_style": "success",
            "description": "",
            "description_tooltip": null,
            "layout": "IPY_MODEL_2919b6baf7744c23a26be9a87f8afc07",
            "max": 7227,
            "min": 0,
            "orientation": "horizontal",
            "style": "IPY_MODEL_299a902de00744329f9b43983309d053",
            "value": 7227
          }
        },
        "b4a1eaf97ac3479bbd2ef97cbc056523": {
          "model_module": "@jupyter-widgets/controls",
          "model_name": "HTMLModel",
          "model_module_version": "1.5.0",
          "state": {
            "_dom_classes": [],
            "_model_module": "@jupyter-widgets/controls",
            "_model_module_version": "1.5.0",
            "_model_name": "HTMLModel",
            "_view_count": null,
            "_view_module": "@jupyter-widgets/controls",
            "_view_module_version": "1.5.0",
            "_view_name": "HTMLView",
            "description": "",
            "description_tooltip": null,
            "layout": "IPY_MODEL_0e6099457dda4a42bf5919ac45713208",
            "placeholder": "​",
            "style": "IPY_MODEL_bf6a83a6d7ba48b7987278236b0d6843",
            "value": " 7227/7227 [00:03&lt;00:00, 2349.36 examples/s]"
          }
        },
        "bf07c23873c94c29b1bea1cb28e0c919": {
          "model_module": "@jupyter-widgets/base",
          "model_name": "LayoutModel",
          "model_module_version": "1.2.0",
          "state": {
            "_model_module": "@jupyter-widgets/base",
            "_model_module_version": "1.2.0",
            "_model_name": "LayoutModel",
            "_view_count": null,
            "_view_module": "@jupyter-widgets/base",
            "_view_module_version": "1.2.0",
            "_view_name": "LayoutView",
            "align_content": null,
            "align_items": null,
            "align_self": null,
            "border": null,
            "bottom": null,
            "display": null,
            "flex": null,
            "flex_flow": null,
            "grid_area": null,
            "grid_auto_columns": null,
            "grid_auto_flow": null,
            "grid_auto_rows": null,
            "grid_column": null,
            "grid_gap": null,
            "grid_row": null,
            "grid_template_areas": null,
            "grid_template_columns": null,
            "grid_template_rows": null,
            "height": null,
            "justify_content": null,
            "justify_items": null,
            "left": null,
            "margin": null,
            "max_height": null,
            "max_width": null,
            "min_height": null,
            "min_width": null,
            "object_fit": null,
            "object_position": null,
            "order": null,
            "overflow": null,
            "overflow_x": null,
            "overflow_y": null,
            "padding": null,
            "right": null,
            "top": null,
            "visibility": null,
            "width": null
          }
        },
        "ae97e2838a7a4e558f114299ad68fe5c": {
          "model_module": "@jupyter-widgets/base",
          "model_name": "LayoutModel",
          "model_module_version": "1.2.0",
          "state": {
            "_model_module": "@jupyter-widgets/base",
            "_model_module_version": "1.2.0",
            "_model_name": "LayoutModel",
            "_view_count": null,
            "_view_module": "@jupyter-widgets/base",
            "_view_module_version": "1.2.0",
            "_view_name": "LayoutView",
            "align_content": null,
            "align_items": null,
            "align_self": null,
            "border": null,
            "bottom": null,
            "display": null,
            "flex": null,
            "flex_flow": null,
            "grid_area": null,
            "grid_auto_columns": null,
            "grid_auto_flow": null,
            "grid_auto_rows": null,
            "grid_column": null,
            "grid_gap": null,
            "grid_row": null,
            "grid_template_areas": null,
            "grid_template_columns": null,
            "grid_template_rows": null,
            "height": null,
            "justify_content": null,
            "justify_items": null,
            "left": null,
            "margin": null,
            "max_height": null,
            "max_width": null,
            "min_height": null,
            "min_width": null,
            "object_fit": null,
            "object_position": null,
            "order": null,
            "overflow": null,
            "overflow_x": null,
            "overflow_y": null,
            "padding": null,
            "right": null,
            "top": null,
            "visibility": null,
            "width": null
          }
        },
        "b2ba5d22396c4c83af82ec53c5725cb3": {
          "model_module": "@jupyter-widgets/controls",
          "model_name": "DescriptionStyleModel",
          "model_module_version": "1.5.0",
          "state": {
            "_model_module": "@jupyter-widgets/controls",
            "_model_module_version": "1.5.0",
            "_model_name": "DescriptionStyleModel",
            "_view_count": null,
            "_view_module": "@jupyter-widgets/base",
            "_view_module_version": "1.2.0",
            "_view_name": "StyleView",
            "description_width": ""
          }
        },
        "2919b6baf7744c23a26be9a87f8afc07": {
          "model_module": "@jupyter-widgets/base",
          "model_name": "LayoutModel",
          "model_module_version": "1.2.0",
          "state": {
            "_model_module": "@jupyter-widgets/base",
            "_model_module_version": "1.2.0",
            "_model_name": "LayoutModel",
            "_view_count": null,
            "_view_module": "@jupyter-widgets/base",
            "_view_module_version": "1.2.0",
            "_view_name": "LayoutView",
            "align_content": null,
            "align_items": null,
            "align_self": null,
            "border": null,
            "bottom": null,
            "display": null,
            "flex": null,
            "flex_flow": null,
            "grid_area": null,
            "grid_auto_columns": null,
            "grid_auto_flow": null,
            "grid_auto_rows": null,
            "grid_column": null,
            "grid_gap": null,
            "grid_row": null,
            "grid_template_areas": null,
            "grid_template_columns": null,
            "grid_template_rows": null,
            "height": null,
            "justify_content": null,
            "justify_items": null,
            "left": null,
            "margin": null,
            "max_height": null,
            "max_width": null,
            "min_height": null,
            "min_width": null,
            "object_fit": null,
            "object_position": null,
            "order": null,
            "overflow": null,
            "overflow_x": null,
            "overflow_y": null,
            "padding": null,
            "right": null,
            "top": null,
            "visibility": null,
            "width": null
          }
        },
        "299a902de00744329f9b43983309d053": {
          "model_module": "@jupyter-widgets/controls",
          "model_name": "ProgressStyleModel",
          "model_module_version": "1.5.0",
          "state": {
            "_model_module": "@jupyter-widgets/controls",
            "_model_module_version": "1.5.0",
            "_model_name": "ProgressStyleModel",
            "_view_count": null,
            "_view_module": "@jupyter-widgets/base",
            "_view_module_version": "1.2.0",
            "_view_name": "StyleView",
            "bar_color": null,
            "description_width": ""
          }
        },
        "0e6099457dda4a42bf5919ac45713208": {
          "model_module": "@jupyter-widgets/base",
          "model_name": "LayoutModel",
          "model_module_version": "1.2.0",
          "state": {
            "_model_module": "@jupyter-widgets/base",
            "_model_module_version": "1.2.0",
            "_model_name": "LayoutModel",
            "_view_count": null,
            "_view_module": "@jupyter-widgets/base",
            "_view_module_version": "1.2.0",
            "_view_name": "LayoutView",
            "align_content": null,
            "align_items": null,
            "align_self": null,
            "border": null,
            "bottom": null,
            "display": null,
            "flex": null,
            "flex_flow": null,
            "grid_area": null,
            "grid_auto_columns": null,
            "grid_auto_flow": null,
            "grid_auto_rows": null,
            "grid_column": null,
            "grid_gap": null,
            "grid_row": null,
            "grid_template_areas": null,
            "grid_template_columns": null,
            "grid_template_rows": null,
            "height": null,
            "justify_content": null,
            "justify_items": null,
            "left": null,
            "margin": null,
            "max_height": null,
            "max_width": null,
            "min_height": null,
            "min_width": null,
            "object_fit": null,
            "object_position": null,
            "order": null,
            "overflow": null,
            "overflow_x": null,
            "overflow_y": null,
            "padding": null,
            "right": null,
            "top": null,
            "visibility": null,
            "width": null
          }
        },
        "bf6a83a6d7ba48b7987278236b0d6843": {
          "model_module": "@jupyter-widgets/controls",
          "model_name": "DescriptionStyleModel",
          "model_module_version": "1.5.0",
          "state": {
            "_model_module": "@jupyter-widgets/controls",
            "_model_module_version": "1.5.0",
            "_model_name": "DescriptionStyleModel",
            "_view_count": null,
            "_view_module": "@jupyter-widgets/base",
            "_view_module_version": "1.2.0",
            "_view_name": "StyleView",
            "description_width": ""
          }
        }
      }
    },
    "kaggle": {
      "accelerator": "nvidiaTeslaT4",
      "dataSources": [
        {
          "sourceId": 13136982,
          "sourceType": "datasetVersion",
          "datasetId": 8322682
        },
        {
          "sourceId": 13138309,
          "sourceType": "datasetVersion",
          "datasetId": 8323627
        }
      ],
      "dockerImageVersionId": 31090,
      "isInternetEnabled": true,
      "language": "python",
      "sourceType": "notebook",
      "isGpuEnabled": true
    }
  },
  "nbformat_minor": 0,
  "nbformat": 4,
  "cells": [
    {
      "cell_type": "markdown",
      "source": [
        "### Восстановление пропущенных пробелов в тексте с помощью NLP / DL / алгоритма."
      ],
      "metadata": {
        "id": "rjanF1PZDAW0"
      }
    },
    {
      "cell_type": "code",
      "source": [
        "import re, math, ast\n",
        "import torch\n",
        "import pandas as pd\n",
        "from datasets import load_dataset, Dataset\n",
        "from sklearn.metrics import precision_recall_fscore_support\n",
        "from transformers import BertTokenizerFast, BertForTokenClassification, Trainer, TrainingArguments, DataCollatorForTokenClassification\n",
        "import ast\n",
        "import numpy as np"
      ],
      "metadata": {
        "id": "8DQLCuUXEADp",
        "trusted": true,
        "execution": {
          "iopub.status.busy": "2025-09-22T14:39:19.417620Z",
          "iopub.execute_input": "2025-09-22T14:39:19.417850Z",
          "iopub.status.idle": "2025-09-22T14:39:46.853697Z",
          "shell.execute_reply.started": "2025-09-22T14:39:19.417832Z",
          "shell.execute_reply": "2025-09-22T14:39:46.853118Z"
        },
        "outputId": "28853c02-7428-4331-8fe9-034c8ffb1ad1"
      },
      "outputs": [
        {
          "name": "stderr",
          "text": "2025-09-22 14:39:34.442773: E external/local_xla/xla/stream_executor/cuda/cuda_fft.cc:477] Unable to register cuFFT factory: Attempting to register factory for plugin cuFFT when one has already been registered\nWARNING: All log messages before absl::InitializeLog() is called are written to STDERR\nE0000 00:00:1758551974.641780      36 cuda_dnn.cc:8310] Unable to register cuDNN factory: Attempting to register factory for plugin cuDNN when one has already been registered\nE0000 00:00:1758551974.696003      36 cuda_blas.cc:1418] Unable to register cuBLAS factory: Attempting to register factory for plugin cuBLAS when one has already been registered\n",
          "output_type": "stream"
        }
      ],
      "execution_count": null
    },
    {
      "cell_type": "markdown",
      "source": [
        "### Обучение модели"
      ],
      "metadata": {
        "id": "mAjUFEjQmwey"
      }
    },
    {
      "cell_type": "code",
      "source": [
        "# 1. Загружаем подготовленный датасет\n",
        "df = pd.read_csv(\"/kaggle/input/train-ds/train_dataset.csv\")"
      ],
      "metadata": {
        "id": "9d9IR03kmzaq",
        "trusted": true,
        "execution": {
          "iopub.status.busy": "2025-09-22T14:41:10.180941Z",
          "iopub.execute_input": "2025-09-22T14:41:10.181549Z",
          "iopub.status.idle": "2025-09-22T14:41:10.334027Z",
          "shell.execute_reply.started": "2025-09-22T14:41:10.181525Z",
          "shell.execute_reply": "2025-09-22T14:41:10.333369Z"
        }
      },
      "outputs": [],
      "execution_count": null
    },
    {
      "cell_type": "code",
      "source": [
        "df.head()"
      ],
      "metadata": {
        "colab": {
          "base_uri": "https://localhost:8080/",
          "height": 379
        },
        "id": "mk-Ztw79m1Ot",
        "outputId": "0d3275a3-2afd-458a-bef1-3990750e4eb9",
        "trusted": true,
        "execution": {
          "iopub.status.busy": "2025-09-22T14:41:11.484151Z",
          "iopub.execute_input": "2025-09-22T14:41:11.484396Z",
          "iopub.status.idle": "2025-09-22T14:41:11.507562Z",
          "shell.execute_reply.started": "2025-09-22T14:41:11.484379Z",
          "shell.execute_reply": "2025-09-22T14:41:11.506977Z"
        }
      },
      "outputs": [
        {
          "execution_count": 3,
          "output_type": "execute_result",
          "data": {
            "text/plain": "   id  id_1  id_2                                             text_1  \\\n0   1   201  8159  полицейским разрешат стрелять на поражение по ...   \n1   2   202  8158  право полицейских на проникновение в жилище ре...   \n2   3   273  8167  президент египта ввел чрезвычайное положение в...   \n3   4   220  8160  вернувшихся из сирии россиян волнует вопрос тр...   \n4   5   223  8160  в москву из сирии вернулись 2 самолета мчс с р...   \n\n                                              text_2  class  \\\n0  Полиции могут разрешить стрелять по хулиганам ...      0   \n1  Правила внесудебного проникновения полицейских...      0   \n2  Власти Египта угрожают ввести в стране чрезвыч...      0   \n3  Самолеты МЧС вывезут россиян из разрушенной Си...     -1   \n4  Самолеты МЧС вывезут россиян из разрушенной Си...      0   \n\n                                       text_no_space  \\\n0  полицейскимразрешатстрелятьнапоражениепогражда...   \n1  правополицейскихнапроникновениевжилищерешилиог...   \n2  президентегиптаввелчрезвычайноеположениевмятеж...   \n3  вернувшихсяизсириироссиянволнуетвопрострудоуст...   \n4  вмосквуизсириивернулись2самолетамчссроссиянами...   \n\n                                     text_with_space  \\\n0  полицейским разрешат стрелять на поражение по ...   \n1  право полицейских на проникновение в жилище ре...   \n2  президент египта ввел чрезвычайное положение в...   \n3  вернувшихся из сирии россиян волнует вопрос тр...   \n4  в москву из сирии вернулись 2 самолета мчс с р...   \n\n                                              labels  \n0  [0, 0, 0, 0, 0, 0, 0, 0, 0, 0, 0, 0, 1, 0, 0, ...  \n1  [0, 0, 0, 0, 0, 0, 1, 0, 0, 0, 0, 0, 0, 0, 0, ...  \n2  [0, 0, 0, 0, 0, 0, 0, 0, 0, 0, 1, 0, 0, 0, 0, ...  \n3  [0, 0, 0, 0, 0, 0, 0, 0, 0, 0, 0, 0, 1, 0, 0, ...  \n4  [0, 0, 1, 0, 0, 0, 0, 0, 0, 1, 0, 0, 1, 0, 0, ...  ",
            "text/html": "<div>\n<style scoped>\n    .dataframe tbody tr th:only-of-type {\n        vertical-align: middle;\n    }\n\n    .dataframe tbody tr th {\n        vertical-align: top;\n    }\n\n    .dataframe thead th {\n        text-align: right;\n    }\n</style>\n<table border=\"1\" class=\"dataframe\">\n  <thead>\n    <tr style=\"text-align: right;\">\n      <th></th>\n      <th>id</th>\n      <th>id_1</th>\n      <th>id_2</th>\n      <th>text_1</th>\n      <th>text_2</th>\n      <th>class</th>\n      <th>text_no_space</th>\n      <th>text_with_space</th>\n      <th>labels</th>\n    </tr>\n  </thead>\n  <tbody>\n    <tr>\n      <th>0</th>\n      <td>1</td>\n      <td>201</td>\n      <td>8159</td>\n      <td>полицейским разрешат стрелять на поражение по ...</td>\n      <td>Полиции могут разрешить стрелять по хулиганам ...</td>\n      <td>0</td>\n      <td>полицейскимразрешатстрелятьнапоражениепогражда...</td>\n      <td>полицейским разрешат стрелять на поражение по ...</td>\n      <td>[0, 0, 0, 0, 0, 0, 0, 0, 0, 0, 0, 0, 1, 0, 0, ...</td>\n    </tr>\n    <tr>\n      <th>1</th>\n      <td>2</td>\n      <td>202</td>\n      <td>8158</td>\n      <td>право полицейских на проникновение в жилище ре...</td>\n      <td>Правила внесудебного проникновения полицейских...</td>\n      <td>0</td>\n      <td>правополицейскихнапроникновениевжилищерешилиог...</td>\n      <td>право полицейских на проникновение в жилище ре...</td>\n      <td>[0, 0, 0, 0, 0, 0, 1, 0, 0, 0, 0, 0, 0, 0, 0, ...</td>\n    </tr>\n    <tr>\n      <th>2</th>\n      <td>3</td>\n      <td>273</td>\n      <td>8167</td>\n      <td>президент египта ввел чрезвычайное положение в...</td>\n      <td>Власти Египта угрожают ввести в стране чрезвыч...</td>\n      <td>0</td>\n      <td>президентегиптаввелчрезвычайноеположениевмятеж...</td>\n      <td>президент египта ввел чрезвычайное положение в...</td>\n      <td>[0, 0, 0, 0, 0, 0, 0, 0, 0, 0, 1, 0, 0, 0, 0, ...</td>\n    </tr>\n    <tr>\n      <th>3</th>\n      <td>4</td>\n      <td>220</td>\n      <td>8160</td>\n      <td>вернувшихся из сирии россиян волнует вопрос тр...</td>\n      <td>Самолеты МЧС вывезут россиян из разрушенной Си...</td>\n      <td>-1</td>\n      <td>вернувшихсяизсириироссиянволнуетвопрострудоуст...</td>\n      <td>вернувшихся из сирии россиян волнует вопрос тр...</td>\n      <td>[0, 0, 0, 0, 0, 0, 0, 0, 0, 0, 0, 0, 1, 0, 0, ...</td>\n    </tr>\n    <tr>\n      <th>4</th>\n      <td>5</td>\n      <td>223</td>\n      <td>8160</td>\n      <td>в москву из сирии вернулись 2 самолета мчс с р...</td>\n      <td>Самолеты МЧС вывезут россиян из разрушенной Си...</td>\n      <td>0</td>\n      <td>вмосквуизсириивернулись2самолетамчссроссиянами...</td>\n      <td>в москву из сирии вернулись 2 самолета мчс с р...</td>\n      <td>[0, 0, 1, 0, 0, 0, 0, 0, 0, 1, 0, 0, 1, 0, 0, ...</td>\n    </tr>\n  </tbody>\n</table>\n</div>"
          },
          "metadata": {}
        }
      ],
      "execution_count": null
    },
    {
      "cell_type": "code",
      "source": [
        "tokenizer = BertTokenizerFast.from_pretrained(\"DeepPavlov/rubert-base-cased\")"
      ],
      "metadata": {
        "id": "hZAQt6GGr9JY",
        "trusted": true,
        "execution": {
          "iopub.status.busy": "2025-09-22T16:05:40.556767Z",
          "iopub.execute_input": "2025-09-22T16:05:40.557338Z",
          "iopub.status.idle": "2025-09-22T16:05:40.972559Z",
          "shell.execute_reply.started": "2025-09-22T16:05:40.557315Z",
          "shell.execute_reply": "2025-09-22T16:05:40.971991Z"
        }
      },
      "outputs": [],
      "execution_count": null
    },
    {
      "cell_type": "code",
      "source": [
        "def split_chars(example):\n",
        "    return {\"chars\": list(example[\"text_no_space\"])}"
      ],
      "metadata": {
        "id": "mvcMjpvmrwWW",
        "trusted": true,
        "execution": {
          "iopub.status.busy": "2025-09-22T16:05:44.015127Z",
          "iopub.execute_input": "2025-09-22T16:05:44.015579Z",
          "iopub.status.idle": "2025-09-22T16:05:44.018946Z",
          "shell.execute_reply.started": "2025-09-22T16:05:44.015554Z",
          "shell.execute_reply": "2025-09-22T16:05:44.018313Z"
        }
      },
      "outputs": [],
      "execution_count": null
    },
    {
      "cell_type": "code",
      "source": [
        "df[\"labels\"] = df[\"labels\"].apply(\n",
        "    lambda x: ast.literal_eval(x) if isinstance(x, str) else x\n",
        ")"
      ],
      "metadata": {
        "id": "Lhn6mnAXsLnh",
        "trusted": true
      },
      "outputs": [],
      "execution_count": null
    },
    {
      "cell_type": "code",
      "source": [
        "hf_ds = Dataset.from_pandas(df)\n",
        "hf_ds = hf_ds.map(split_chars)"
      ],
      "metadata": {
        "colab": {
          "base_uri": "https://localhost:8080/",
          "height": 49,
          "referenced_widgets": [
            "db2213c43cb9433dbd544843ba4957dc",
            "8474086204014c209b4d9107511e1038",
            "b40a5d713e7a43a1b620730f0d683d07",
            "b9c6f2d49aca4c18ae6ae87434b65aba",
            "845ac86377934792aac724d721e4b4a5",
            "740f748f52384a8285fcdc6206a3a528",
            "8b78ab99dd2a4d5a910f66193d20ae28",
            "31d5174685844ae79833335239e9526c",
            "e9f3e9766250481fbd33efe407c92f68",
            "f8fb6e9c5f0e4a8a8933a02e9bb8cc1d",
            "c5047be1fa3c477391e32fb5fbd5dbac",
            "e3399f4b1297473a96003bcaa2091c92"
          ]
        },
        "id": "JCdsJheKnCXg",
        "outputId": "7e74c0ed-856a-4eeb-d1c5-8543cbeabcec",
        "trusted": true,
        "execution": {
          "iopub.status.busy": "2025-09-22T14:41:20.838321Z",
          "iopub.execute_input": "2025-09-22T14:41:20.838615Z",
          "iopub.status.idle": "2025-09-22T14:41:21.623341Z",
          "shell.execute_reply.started": "2025-09-22T14:41:20.838592Z",
          "shell.execute_reply": "2025-09-22T14:41:21.622546Z"
        }
      },
      "outputs": [
        {
          "output_type": "display_data",
          "data": {
            "text/plain": "Map:   0%|          | 0/7227 [00:00<?, ? examples/s]",
            "application/vnd.jupyter.widget-view+json": {
              "version_major": 2,
              "version_minor": 0,
              "model_id": "e3399f4b1297473a96003bcaa2091c92"
            }
          },
          "metadata": {}
        }
      ],
      "execution_count": null
    },
    {
      "cell_type": "code",
      "source": [
        "def tok_align(examples):\n",
        "    # Токенизация текста на уровне символов\n",
        "    # is_split_into_words=True говорит токенизатору, что вход уже разбит на \"слова\" (в данном случае это символы)\n",
        "    # truncation=True обрезает последовательности длиннее max_length\n",
        "    # padding=\"max_length\" дополняет до фиксированной длины 256\n",
        "    tokenized = tokenizer(\n",
        "        examples[\"chars\"],\n",
        "        is_split_into_words=True,\n",
        "        truncation=True,\n",
        "        padding=\"max_length\",\n",
        "        max_length=256,\n",
        "    )\n",
        "\n",
        "    # Хранит выровненные метки\n",
        "    all_labels = []\n",
        "    for i, labs in enumerate(examples[\"labels\"]):\n",
        "        # Получаем для текущего примера соответствие токенов и исходных символов\n",
        "        word_ids = tokenized.word_ids(batch_index=i)\n",
        "        aligned = [] # выровненные метки для текущего примера\n",
        "        prev_idx = None\n",
        "        for word_idx in word_ids:\n",
        "            if word_idx is None:\n",
        "                # Токены типа [CLS], [SEP], паддинги — игнорируем, ставим -100\n",
        "                aligned.append(-100)\n",
        "            elif word_idx != prev_idx:\n",
        "                # Если токен соответствует новому символу (новое \"слово\"), добавляем метку\n",
        "                aligned.append(labs[word_idx])\n",
        "            else:\n",
        "                # Если токен — продолжение предыдущего символа (WordPiece), игнорируем\n",
        "                aligned.append(-100)\n",
        "            prev_idx = word_idx\n",
        "        all_labels.append(aligned)\n",
        "\n",
        "    tokenized[\"labels\"] = all_labels\n",
        "    return tokenized\n",
        "\n",
        "tokenized_ds = hf_ds.map(tok_align, batched=True, remove_columns=hf_ds.column_names)"
      ],
      "metadata": {
        "colab": {
          "base_uri": "https://localhost:8080/",
          "height": 49,
          "referenced_widgets": [
            "cecc8a559f6d415c9b66034dca6e16ea",
            "3477f45fc2834f63ae05515bcf9868ba",
            "7fb08c87fd324d8f8009b08bd5d105b3",
            "b4a1eaf97ac3479bbd2ef97cbc056523",
            "bf07c23873c94c29b1bea1cb28e0c919",
            "ae97e2838a7a4e558f114299ad68fe5c",
            "b2ba5d22396c4c83af82ec53c5725cb3",
            "2919b6baf7744c23a26be9a87f8afc07",
            "299a902de00744329f9b43983309d053",
            "0e6099457dda4a42bf5919ac45713208",
            "bf6a83a6d7ba48b7987278236b0d6843",
            "591a29c87cf9471dbb2771ee23a96971"
          ]
        },
        "id": "nvRNxggPr6VS",
        "outputId": "18880e8b-7576-4649-bbb6-daf1239856de",
        "trusted": true,
        "execution": {
          "iopub.status.busy": "2025-09-22T14:41:22.720726Z",
          "iopub.execute_input": "2025-09-22T14:41:22.721441Z",
          "iopub.status.idle": "2025-09-22T14:41:25.557109Z",
          "shell.execute_reply.started": "2025-09-22T14:41:22.721414Z",
          "shell.execute_reply": "2025-09-22T14:41:25.556297Z"
        }
      },
      "outputs": [
        {
          "output_type": "display_data",
          "data": {
            "text/plain": "Map:   0%|          | 0/7227 [00:00<?, ? examples/s]",
            "application/vnd.jupyter.widget-view+json": {
              "version_major": 2,
              "version_minor": 0,
              "model_id": "591a29c87cf9471dbb2771ee23a96971"
            }
          },
          "metadata": {}
        }
      ],
      "execution_count": null
    },
    {
      "cell_type": "code",
      "source": [
        "# Разбиваем на тренировочный и валидационный датасет\n",
        "split_ds = tokenized_ds.train_test_split(test_size=0.1, seed=42)\n",
        "train_ds = split_ds[\"train\"]\n",
        "val_ds = split_ds[\"test\"]"
      ],
      "metadata": {
        "id": "Hm7uP1HHncP-",
        "trusted": true,
        "execution": {
          "iopub.status.busy": "2025-09-22T14:41:25.884672Z",
          "iopub.execute_input": "2025-09-22T14:41:25.885206Z",
          "iopub.status.idle": "2025-09-22T14:41:25.895740Z",
          "shell.execute_reply.started": "2025-09-22T14:41:25.885185Z",
          "shell.execute_reply": "2025-09-22T14:41:25.894902Z"
        }
      },
      "outputs": [],
      "execution_count": null
    },
    {
      "cell_type": "code",
      "source": [
        "# 3. Модель RuBERT + кастомная инициализация головы\n",
        "model = BertForTokenClassification.from_pretrained(\"DeepPavlov/rubert-base-cased\", num_labels=2)"
      ],
      "metadata": {
        "colab": {
          "base_uri": "https://localhost:8080/",
          "referenced_widgets": [
            "7d4c059b061744d58a2011d2c068924a",
            "7151dafeb8014a16a0dfdf5cf66afd45"
          ]
        },
        "id": "WBKC6UF0ne9y",
        "outputId": "22424e5b-beef-4337-bc84-1d0d2adda850",
        "trusted": true,
        "execution": {
          "iopub.status.busy": "2025-09-22T14:41:27.354621Z",
          "iopub.execute_input": "2025-09-22T14:41:27.355162Z",
          "iopub.status.idle": "2025-09-22T14:41:32.290764Z",
          "shell.execute_reply.started": "2025-09-22T14:41:27.355139Z",
          "shell.execute_reply": "2025-09-22T14:41:32.289785Z"
        }
      },
      "outputs": [
        {
          "output_type": "display_data",
          "data": {
            "text/plain": "pytorch_model.bin:   0%|          | 0.00/714M [00:00<?, ?B/s]",
            "application/vnd.jupyter.widget-view+json": {
              "version_major": 2,
              "version_minor": 0,
              "model_id": "7d4c059b061744d58a2011d2c068924a"
            }
          },
          "metadata": {}
        },
        {
          "output_type": "display_data",
          "data": {
            "text/plain": "model.safetensors:   0%|          | 0.00/714M [00:00<?, ?B/s]",
            "application/vnd.jupyter.widget-view+json": {
              "version_major": 2,
              "version_minor": 0,
              "model_id": "7151dafeb8014a16a0dfdf5cf66afd45"
            }
          },
          "metadata": {}
        },
        {
          "name": "stderr",
          "text": "Some weights of BertForTokenClassification were not initialized from the model checkpoint at DeepPavlov/rubert-base-cased and are newly initialized: ['classifier.bias', 'classifier.weight']\nYou should probably TRAIN this model on a down-stream task to be able to use it for predictions and inference.\n",
          "output_type": "stream"
        }
      ],
      "execution_count": null
    },
    {
      "cell_type": "code",
      "source": [
        "# Подбираем веса вручную\n",
        "class_weight = [1.0, 2.5] # [1.0, 2.0] [1.0, 2.25] [1.0, 3.0]"
      ],
      "metadata": {
        "id": "DdYkIEPR4sJD",
        "trusted": true,
        "execution": {
          "iopub.status.busy": "2025-09-22T15:00:27.157322Z",
          "iopub.execute_input": "2025-09-22T15:00:27.157973Z",
          "iopub.status.idle": "2025-09-22T15:00:27.161216Z",
          "shell.execute_reply.started": "2025-09-22T15:00:27.157949Z",
          "shell.execute_reply": "2025-09-22T15:00:27.160489Z"
        }
      },
      "outputs": [],
      "execution_count": null
    },
    {
      "cell_type": "code",
      "source": [
        "# 4. Кастомный Trainer с взвешенным лоссом\n",
        "\n",
        "class TrainerWithWeightedLoss(Trainer):\n",
        "    def __init__(self, class_weight, *args, **kwargs):\n",
        "        super().__init__(*args, **kwargs)\n",
        "        self.class_weight = torch.tensor(class_weight, dtype=torch.float)\n",
        "\n",
        "    def compute_loss(self, model, inputs, return_outputs=False, **kwargs):\n",
        "        labels = inputs.get(\"labels\")\n",
        "        outputs = model(**{k: v for k, v in inputs.items() if k != \"labels\"})\n",
        "        logits = outputs.logits\n",
        "\n",
        "        device = next(model.parameters()).device\n",
        "        num_labels = getattr(model, \"num_labels\", model.module.num_labels)  # универсально\n",
        "\n",
        "        loss_fct = torch.nn.CrossEntropyLoss(\n",
        "            weight=self.class_weight.to(device),\n",
        "            ignore_index=-100\n",
        "        )\n",
        "        loss = loss_fct(logits.view(-1, num_labels), labels.view(-1))\n",
        "\n",
        "        return (loss, outputs) if return_outputs else loss"
      ],
      "metadata": {
        "id": "DCIcjiWPtUaH",
        "trusted": true,
        "execution": {
          "iopub.status.busy": "2025-09-22T14:41:45.963656Z",
          "iopub.execute_input": "2025-09-22T14:41:45.964231Z",
          "iopub.status.idle": "2025-09-22T14:41:45.970215Z",
          "shell.execute_reply.started": "2025-09-22T14:41:45.964204Z",
          "shell.execute_reply": "2025-09-22T14:41:45.969432Z"
        }
      },
      "outputs": [],
      "execution_count": null
    },
    {
      "cell_type": "code",
      "source": [
        "# 5. Метрика F1 по строкам\n",
        "def compute_metrics_for_stepik(eval_pred):\n",
        "    logits, label_ids = eval_pred\n",
        "    preds = np.argmax(logits, axis=-1)\n",
        "\n",
        "    f1s, precs, recs = [], [], []\n",
        "    for pred_row, label_row in zip(preds, label_ids):\n",
        "        valid_idx = np.where(label_row != -100)[0]\n",
        "        if len(valid_idx) == 0:\n",
        "            continue\n",
        "\n",
        "        true_pos = set(np.where(label_row == 1)[0]) & set(valid_idx)\n",
        "        pred_pos = set(np.where(pred_row == 1)[0]) & set(valid_idx)\n",
        "\n",
        "        if len(true_pos) == 0 and len(pred_pos) == 0:\n",
        "            f1s.append(1.0); precs.append(1.0); recs.append(1.0); continue\n",
        "\n",
        "        tp = len(pred_pos & true_pos)\n",
        "        prec = tp / len(pred_pos) if len(pred_pos) > 0 else 0.0\n",
        "        rec = tp / len(true_pos) if len(true_pos) > 0 else 0.0\n",
        "        f1 = (2 * prec * rec) / (prec + rec) if (prec + rec) > 0 else 0.0\n",
        "        f1s.append(f1); precs.append(prec); recs.append(rec)\n",
        "\n",
        "    return {\n",
        "        \"precision_macro_per_line\": float(np.mean(precs)) if precs else 0.0,\n",
        "        \"recall_macro_per_line\": float(np.mean(recs)) if recs else 0.0,\n",
        "        \"f1_macro_per_line\": float(np.mean(f1s)) if f1s else 0.0,\n",
        "    }"
      ],
      "metadata": {
        "id": "u3O0c3FYtY7r",
        "trusted": true,
        "execution": {
          "iopub.status.busy": "2025-09-22T14:41:58.690687Z",
          "iopub.execute_input": "2025-09-22T14:41:58.690984Z",
          "iopub.status.idle": "2025-09-22T14:41:58.698966Z",
          "shell.execute_reply.started": "2025-09-22T14:41:58.690965Z",
          "shell.execute_reply": "2025-09-22T14:41:58.698367Z"
        }
      },
      "outputs": [],
      "execution_count": null
    },
    {
      "cell_type": "code",
      "source": [
        "# 6. Обучение\n",
        "\n",
        "training_args = TrainingArguments(\n",
        "    output_dir=\"./rubert-spacefix\",\n",
        "    eval_strategy=\"epoch\",\n",
        "    save_strategy=\"epoch\",\n",
        "    learning_rate=3e-5,\n",
        "    per_device_train_batch_size=8,\n",
        "    per_device_eval_batch_size=8,\n",
        "    num_train_epochs=6,\n",
        "    weight_decay=0.01,\n",
        "    logging_steps=200,\n",
        "    load_best_model_at_end=True,\n",
        "    metric_for_best_model=\"f1_macro_per_line\",\n",
        "    report_to=\"none\"\n",
        ")\n",
        "\n",
        "trainer = TrainerWithWeightedLoss(\n",
        "    class_weight=class_weight,\n",
        "    model=model,\n",
        "    args=training_args,\n",
        "    train_dataset=train_ds,\n",
        "    eval_dataset=val_ds,\n",
        "    tokenizer=tokenizer,\n",
        "    compute_metrics=compute_metrics_for_stepik,\n",
        ")\n"
      ],
      "metadata": {
        "colab": {
          "base_uri": "https://localhost:8080/"
        },
        "id": "AQqkUmdvtgjK",
        "outputId": "ce5a131a-3af9-4d2f-b95a-7b05f833404f",
        "trusted": true,
        "execution": {
          "iopub.status.busy": "2025-09-22T15:19:08.929551Z",
          "iopub.execute_input": "2025-09-22T15:19:08.930432Z",
          "iopub.status.idle": "2025-09-22T15:19:08.973844Z",
          "shell.execute_reply.started": "2025-09-22T15:19:08.930404Z",
          "shell.execute_reply": "2025-09-22T15:19:08.973170Z"
        }
      },
      "outputs": [
        {
          "name": "stderr",
          "text": "/tmp/ipykernel_36/359190239.py:6: FutureWarning: `tokenizer` is deprecated and will be removed in version 5.0.0 for `TrainerWithWeightedLoss.__init__`. Use `processing_class` instead.\n  super().__init__(*args, **kwargs)\n",
          "output_type": "stream"
        }
      ],
      "execution_count": null
    },
    {
      "cell_type": "code",
      "source": [
        "trainer.train()"
      ],
      "metadata": {
        "colab": {
          "base_uri": "https://localhost:8080/",
          "height": 262
        },
        "id": "tikYavWfvQld",
        "outputId": "1fbb8853-379e-4f6a-fe7b-bf7e33d599c3",
        "trusted": true,
        "execution": {
          "iopub.status.busy": "2025-09-22T15:19:13.380926Z",
          "iopub.execute_input": "2025-09-22T15:19:13.381623Z",
          "iopub.status.idle": "2025-09-22T15:43:40.967399Z",
          "shell.execute_reply.started": "2025-09-22T15:19:13.381596Z",
          "shell.execute_reply": "2025-09-22T15:43:40.966816Z"
        }
      },
      "outputs": [
        {
          "output_type": "display_data",
          "data": {
            "text/plain": "<IPython.core.display.HTML object>",
            "text/html": "\n    <div>\n      \n      <progress value='2442' max='2442' style='width:300px; height:20px; vertical-align: middle;'></progress>\n      [2442/2442 24:26, Epoch 6/6]\n    </div>\n    <table border=\"1\" class=\"dataframe\">\n  <thead>\n <tr style=\"text-align: left;\">\n      <th>Epoch</th>\n      <th>Training Loss</th>\n      <th>Validation Loss</th>\n      <th>Precision Macro Per Line</th>\n      <th>Recall Macro Per Line</th>\n      <th>F1 Macro Per Line</th>\n    </tr>\n  </thead>\n  <tbody>\n    <tr>\n      <td>1</td>\n      <td>0.256600</td>\n      <td>0.290924</td>\n      <td>0.589249</td>\n      <td>0.756299</td>\n      <td>0.654129</td>\n    </tr>\n    <tr>\n      <td>2</td>\n      <td>0.223000</td>\n      <td>0.323665</td>\n      <td>0.638761</td>\n      <td>0.701795</td>\n      <td>0.663326</td>\n    </tr>\n    <tr>\n      <td>3</td>\n      <td>0.202600</td>\n      <td>0.284153</td>\n      <td>0.651102</td>\n      <td>0.798710</td>\n      <td>0.710348</td>\n    </tr>\n    <tr>\n      <td>4</td>\n      <td>0.174800</td>\n      <td>0.300139</td>\n      <td>0.698411</td>\n      <td>0.760146</td>\n      <td>0.723017</td>\n    </tr>\n    <tr>\n      <td>5</td>\n      <td>0.165100</td>\n      <td>0.288200</td>\n      <td>0.703629</td>\n      <td>0.794431</td>\n      <td>0.740877</td>\n    </tr>\n    <tr>\n      <td>6</td>\n      <td>0.147300</td>\n      <td>0.286458</td>\n      <td>0.712769</td>\n      <td>0.796231</td>\n      <td>0.746512</td>\n    </tr>\n  </tbody>\n</table><p>"
          },
          "metadata": {}
        },
        {
          "execution_count": 20,
          "output_type": "execute_result",
          "data": {
            "text/plain": "TrainOutput(global_step=2442, training_loss=0.19556625664575875, metrics={'train_runtime': 1467.0968, 'train_samples_per_second': 26.599, 'train_steps_per_second': 1.665, 'total_flos': 5098422317432832.0, 'train_loss': 0.19556625664575875, 'epoch': 6.0})"
          },
          "metadata": {}
        }
      ],
      "execution_count": null
    },
    {
      "cell_type": "code",
      "source": [
        "# Итоговая оценка на валидации\n",
        "trainer.evaluate()"
      ],
      "metadata": {
        "colab": {
          "base_uri": "https://localhost:8080/",
          "height": 176
        },
        "id": "PyTP1uHjxRov",
        "outputId": "e0a9a673-2823-4b68-a9cc-22466b90095c",
        "trusted": true,
        "execution": {
          "iopub.status.busy": "2025-09-22T15:44:03.651053Z",
          "iopub.execute_input": "2025-09-22T15:44:03.651611Z",
          "iopub.status.idle": "2025-09-22T15:44:12.490934Z",
          "shell.execute_reply.started": "2025-09-22T15:44:03.651591Z",
          "shell.execute_reply": "2025-09-22T15:44:12.490234Z"
        }
      },
      "outputs": [
        {
          "output_type": "display_data",
          "data": {
            "text/plain": "<IPython.core.display.HTML object>",
            "text/html": "\n    <div>\n      \n      <progress value='46' max='46' style='width:300px; height:20px; vertical-align: middle;'></progress>\n      [46/46 00:08]\n    </div>\n    "
          },
          "metadata": {}
        },
        {
          "execution_count": 21,
          "output_type": "execute_result",
          "data": {
            "text/plain": "{'eval_loss': 0.286458283662796,\n 'eval_precision_macro_per_line': 0.7127687219126078,\n 'eval_recall_macro_per_line': 0.7962312315009411,\n 'eval_f1_macro_per_line': 0.7465118258650287,\n 'eval_runtime': 8.8311,\n 'eval_samples_per_second': 81.87,\n 'eval_steps_per_second': 5.209,\n 'epoch': 6.0}"
          },
          "metadata": {}
        }
      ],
      "execution_count": null
    },
    {
      "cell_type": "code",
      "source": [
        "# Сохраняем модель\n",
        "model.save_pretrained(\"/kaggle/working/\")\n",
        "\n",
        "# Сохраняем токенизатор\n",
        "tokenizer.save_pretrained(\"/kaggle/working/\")"
      ],
      "metadata": {
        "trusted": true,
        "execution": {
          "iopub.status.busy": "2025-09-22T15:45:17.735893Z",
          "iopub.execute_input": "2025-09-22T15:45:17.736587Z",
          "iopub.status.idle": "2025-09-22T15:45:20.045246Z",
          "shell.execute_reply.started": "2025-09-22T15:45:17.736564Z",
          "shell.execute_reply": "2025-09-22T15:45:20.044552Z"
        },
        "id": "7RFUuPKvfKsx",
        "outputId": "4e27c57e-5477-455d-e246-d1ba5605d8b4"
      },
      "outputs": [
        {
          "execution_count": 23,
          "output_type": "execute_result",
          "data": {
            "text/plain": "('/kaggle/working/tokenizer_config.json',\n '/kaggle/working/special_tokens_map.json',\n '/kaggle/working/vocab.txt',\n '/kaggle/working/added_tokens.json',\n '/kaggle/working/tokenizer.json')"
          },
          "metadata": {}
        }
      ],
      "execution_count": null
    },
    {
      "cell_type": "markdown",
      "source": [
        "### Инференс"
      ],
      "metadata": {
        "id": "ATj7DbuwfKsy"
      }
    },
    {
      "cell_type": "code",
      "source": [
        "# Загружаем файл со степика\n",
        "# Читаем файл построчно\n",
        "with open(\"/kaggle/input/test-dataset/dataset_1937770_3.txt\", 'r', encoding='utf-8') as f:\n",
        "    lines = f.readlines()\n",
        "\n",
        "# Обрабатываем строки\n",
        "data = []\n",
        "headers = lines[0].strip().split(',')\n",
        "\n",
        "for line in lines[1:]:\n",
        "    line = line.strip()\n",
        "    # Разделяем только по ПЕРВОЙ запятой\n",
        "    parts = line.split(',', 1)\n",
        "    if len(parts) == 2:\n",
        "        data.append(parts)\n",
        "\n",
        "# Создаем DataFrame\n",
        "task_data = pd.DataFrame(data, columns=headers)\n",
        "task_data['id'] = task_data['id'].astype(int)\n",
        "\n",
        "print(task_data.head())\n",
        "print(f\"Размер данных: {task_data.shape}\")"
      ],
      "metadata": {
        "trusted": true,
        "execution": {
          "iopub.status.busy": "2025-09-22T15:56:48.492284Z",
          "iopub.execute_input": "2025-09-22T15:56:48.492778Z",
          "iopub.status.idle": "2025-09-22T15:56:48.504901Z",
          "shell.execute_reply.started": "2025-09-22T15:56:48.492754Z",
          "shell.execute_reply": "2025-09-22T15:56:48.504282Z"
        },
        "id": "MwfJvZIQfKsy",
        "outputId": "6108ca8e-a4ae-44c4-f29d-f21998fd330a"
      },
      "outputs": [
        {
          "name": "stdout",
          "text": "   id                 text_no_spaces\n0   0                куплюайфон14про\n1   1             ищудомвПодмосковье\n2   2  сдаюквартирусмебельюитехникой\n3   3     новыйдивандоставканедорого\n4   4                отдамдаромкошку\nРазмер данных: (1005, 2)\n",
          "output_type": "stream"
        }
      ],
      "execution_count": null
    },
    {
      "cell_type": "code",
      "source": [
        "# Переводим модель в режим инференса\n",
        "model.eval()"
      ],
      "metadata": {
        "trusted": true,
        "execution": {
          "iopub.status.busy": "2025-09-22T15:57:01.578605Z",
          "iopub.execute_input": "2025-09-22T15:57:01.578920Z",
          "iopub.status.idle": "2025-09-22T15:57:01.586588Z",
          "shell.execute_reply.started": "2025-09-22T15:57:01.578896Z",
          "shell.execute_reply": "2025-09-22T15:57:01.585671Z"
        },
        "id": "j1YB5rGufKsy",
        "outputId": "c750380f-0194-4984-a7d5-71cb4848301e"
      },
      "outputs": [
        {
          "execution_count": 31,
          "output_type": "execute_result",
          "data": {
            "text/plain": "BertForTokenClassification(\n  (bert): BertModel(\n    (embeddings): BertEmbeddings(\n      (word_embeddings): Embedding(119547, 768, padding_idx=0)\n      (position_embeddings): Embedding(512, 768)\n      (token_type_embeddings): Embedding(2, 768)\n      (LayerNorm): LayerNorm((768,), eps=1e-12, elementwise_affine=True)\n      (dropout): Dropout(p=0.1, inplace=False)\n    )\n    (encoder): BertEncoder(\n      (layer): ModuleList(\n        (0-11): 12 x BertLayer(\n          (attention): BertAttention(\n            (self): BertSdpaSelfAttention(\n              (query): Linear(in_features=768, out_features=768, bias=True)\n              (key): Linear(in_features=768, out_features=768, bias=True)\n              (value): Linear(in_features=768, out_features=768, bias=True)\n              (dropout): Dropout(p=0.1, inplace=False)\n            )\n            (output): BertSelfOutput(\n              (dense): Linear(in_features=768, out_features=768, bias=True)\n              (LayerNorm): LayerNorm((768,), eps=1e-12, elementwise_affine=True)\n              (dropout): Dropout(p=0.1, inplace=False)\n            )\n          )\n          (intermediate): BertIntermediate(\n            (dense): Linear(in_features=768, out_features=3072, bias=True)\n            (intermediate_act_fn): GELUActivation()\n          )\n          (output): BertOutput(\n            (dense): Linear(in_features=3072, out_features=768, bias=True)\n            (LayerNorm): LayerNorm((768,), eps=1e-12, elementwise_affine=True)\n            (dropout): Dropout(p=0.1, inplace=False)\n          )\n        )\n      )\n    )\n  )\n  (dropout): Dropout(p=0.1, inplace=False)\n  (classifier): Linear(in_features=768, out_features=2, bias=True)\n)"
          },
          "metadata": {}
        }
      ],
      "execution_count": null
    },
    {
      "cell_type": "code",
      "source": [
        "device = torch.device(\"cuda\" if torch.cuda.is_available() else \"cpu\")\n",
        "print(f\"Using device: {device}\")"
      ],
      "metadata": {
        "trusted": true,
        "execution": {
          "iopub.status.busy": "2025-09-22T15:59:41.213804Z",
          "iopub.execute_input": "2025-09-22T15:59:41.214406Z",
          "iopub.status.idle": "2025-09-22T15:59:41.218544Z",
          "shell.execute_reply.started": "2025-09-22T15:59:41.214376Z",
          "shell.execute_reply": "2025-09-22T15:59:41.217813Z"
        },
        "id": "-gllm3L7fKsy",
        "outputId": "6c049ffb-26ca-4b2a-edb8-31b47cf73fef"
      },
      "outputs": [
        {
          "name": "stdout",
          "text": "Using device: cuda\n",
          "output_type": "stream"
        }
      ],
      "execution_count": null
    },
    {
      "cell_type": "code",
      "source": [
        "# Список для позиций пробелов\n",
        "predicted_positions = []\n",
        "\n",
        "for text in task_data[\"text_no_spaces\"]:\n",
        "    # Разбиваем текст на отдельные символы\n",
        "    chars = list(text)\n",
        "\n",
        "    # Токенизация\n",
        "    enc = tokenizer(\n",
        "        chars,\n",
        "        is_split_into_words=True,\n",
        "        return_tensors=\"pt\", # возвращает PyTorch тензоры\n",
        "        truncation=True  # обрезаем, если длиннее max_length\n",
        "    )\n",
        "\n",
        "    # Переносим входы на тот же девайс, где модель\n",
        "    input_ids = enc[\"input_ids\"].to(device)\n",
        "    attention_mask = enc[\"attention_mask\"].to(device)\n",
        "\n",
        "    # Отключаем вычисление градиентов\n",
        "    with torch.no_grad():\n",
        "        logits = model(input_ids=input_ids, attention_mask=attention_mask).logits\n",
        "\n",
        "    # Берем предсказание класса для каждого токена (0 = нет пробела, 1 = пробел)\n",
        "    preds = torch.argmax(logits, dim=-1).squeeze().cpu().numpy()\n",
        "\n",
        "    # Получаем индексы слов для токенов, чтобы выровнять предсказания по символам\n",
        "    word_ids = enc.word_ids()\n",
        "    positions = []  # список позиций пробелов для этой строки\n",
        "    prev_idx = None\n",
        "\n",
        "    # Проходим по токенам\n",
        "    for idx, word_idx in enumerate(word_ids):\n",
        "        if word_idx is None:\n",
        "            continue\n",
        "        # Если метка = 1 и это первый токен символа в слове, сохраняем позицию\n",
        "        if word_idx != prev_idx and preds[idx] == 1:\n",
        "            positions.append(word_idx)\n",
        "        prev_idx = word_idx\n",
        "\n",
        "    predicted_positions.append(str(positions))"
      ],
      "metadata": {
        "trusted": true,
        "execution": {
          "iopub.status.busy": "2025-09-22T15:59:47.398333Z",
          "iopub.execute_input": "2025-09-22T15:59:47.398900Z",
          "iopub.status.idle": "2025-09-22T15:59:54.956474Z",
          "shell.execute_reply.started": "2025-09-22T15:59:47.398849Z",
          "shell.execute_reply": "2025-09-22T15:59:54.955904Z"
        },
        "id": "FnhBIg-kfKsy"
      },
      "outputs": [],
      "execution_count": null
    },
    {
      "cell_type": "code",
      "source": [
        "task_data[\"predicted_positions\"] = predicted_positions\n",
        "\n",
        "# Сохраняем CSV для отправки\n",
        "task_data.to_csv(\"submission.csv\", index=False)"
      ],
      "metadata": {
        "trusted": true,
        "execution": {
          "iopub.status.busy": "2025-09-22T15:59:59.600001Z",
          "iopub.execute_input": "2025-09-22T15:59:59.600566Z",
          "iopub.status.idle": "2025-09-22T15:59:59.611336Z",
          "shell.execute_reply.started": "2025-09-22T15:59:59.600543Z",
          "shell.execute_reply": "2025-09-22T15:59:59.610758Z"
        },
        "id": "Jlix3ZP8fKsy"
      },
      "outputs": [],
      "execution_count": null
    }
  ]
}