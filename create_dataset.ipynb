{
  "nbformat": 4,
  "nbformat_minor": 0,
  "metadata": {
    "colab": {
      "provenance": [],
      "gpuType": "T4"
    },
    "kernelspec": {
      "name": "python3",
      "display_name": "Python 3"
    },
    "language_info": {
      "name": "python"
    },
    "accelerator": "GPU"
  },
  "cells": [
    {
      "cell_type": "markdown",
      "source": [
        "### Восстановление пропущенных пробелов в тексте с помощью NLP / DL / алгоритма."
      ],
      "metadata": {
        "id": "rjanF1PZDAW0"
      }
    },
    {
      "cell_type": "code",
      "source": [
        "import re, math, ast\n",
        "import torch\n",
        "import pandas as pd\n",
        "from datasets import load_dataset, Dataset\n",
        "from sklearn.metrics import precision_recall_fscore_support\n",
        "from transformers import BertTokenizerFast, BertForTokenClassification, Trainer, TrainingArguments, DataCollatorForTokenClassification\n",
        "import ast\n",
        "import numpy as np"
      ],
      "metadata": {
        "id": "8DQLCuUXEADp"
      },
      "execution_count": 21,
      "outputs": []
    },
    {
      "cell_type": "code",
      "source": [
        "# 1. Загружаем датасет\n",
        "dataset_train = load_dataset(\"merionum/ru_paraphraser\", split=\"train\")"
      ],
      "metadata": {
        "id": "AvpRE-mciATB"
      },
      "execution_count": 22,
      "outputs": []
    },
    {
      "cell_type": "code",
      "source": [
        "print(dataset_train[1])"
      ],
      "metadata": {
        "colab": {
          "base_uri": "https://localhost:8080/"
        },
        "id": "e038MqdFiDJK",
        "outputId": "0057666d-90b5-4328-f56b-1309b8923e39"
      },
      "execution_count": 23,
      "outputs": [
        {
          "output_type": "stream",
          "name": "stdout",
          "text": [
            "{'id': '2', 'id_1': '202', 'id_2': '8158', 'text_1': 'Право полицейских на проникновение в жилище решили ограничить.', 'text_2': 'Правила внесудебного проникновения полицейских в жилище уточнят.', 'class': '0'}\n"
          ]
        }
      ]
    },
    {
      "cell_type": "code",
      "source": [
        "def clean_text(text: str) -> str:\n",
        "    text = text.lower()\n",
        "    text = re.sub(r\"\\s+\", \" \", text).strip()    # заменяем множественные пробелы\n",
        "    return text"
      ],
      "metadata": {
        "id": "ALnsxh_wiX9G"
      },
      "execution_count": 24,
      "outputs": []
    },
    {
      "cell_type": "code",
      "source": [
        "# 2. Очищаем датасет\n",
        "clean_dataset_train = dataset_train.map(lambda x: {\"text_1\": clean_text(x[\"text_1\"])})"
      ],
      "metadata": {
        "id": "W911Q-_AjeAu"
      },
      "execution_count": 25,
      "outputs": []
    },
    {
      "cell_type": "code",
      "source": [
        "# 3. Функция для генерации текста без пробелов и создания меток позиций\n",
        "def make_training_example(example):\n",
        "    text = example[\"text_1\"]\n",
        "    no_space = text.replace(\" \", \"\")\n",
        "\n",
        "    labels = []\n",
        "    pos = 0\n",
        "    for ch in text:\n",
        "        if ch == \" \":\n",
        "            continue\n",
        "        if pos == 0:\n",
        "            labels.append(0)\n",
        "        else:\n",
        "            prev_char = text[pos-1]\n",
        "            labels.append(1 if prev_char == \" \" else 0)\n",
        "        pos += 1\n",
        "\n",
        "    return {\"text_no_space\": no_space, \"text_with_space\": text, \"labels\": labels}"
      ],
      "metadata": {
        "id": "AmrsI257ib9G"
      },
      "execution_count": 26,
      "outputs": []
    },
    {
      "cell_type": "code",
      "source": [
        "processed_train = clean_dataset_train.map(make_training_example)"
      ],
      "metadata": {
        "id": "U70i1BsRirz-"
      },
      "execution_count": 27,
      "outputs": []
    },
    {
      "cell_type": "code",
      "source": [
        "# 4. Проверим результат\n",
        "print(\"Оригинал:\", processed_train[1][\"text_with_space\"])\n",
        "print(\"Без пробелов:\", processed_train[1][\"text_no_space\"])\n",
        "print(\"Метки:\", processed_train[1][\"labels\"])"
      ],
      "metadata": {
        "colab": {
          "base_uri": "https://localhost:8080/"
        },
        "id": "w8rt7hS-jKq9",
        "outputId": "96ad969e-121c-42d9-de83-7a9c3169a678"
      },
      "execution_count": 28,
      "outputs": [
        {
          "output_type": "stream",
          "name": "stdout",
          "text": [
            "Оригинал: право полицейских на проникновение в жилище решили ограничить\n",
            "Без пробелов: правополицейскихнапроникновениевжилищерешилиограничить\n",
            "Метки: [0, 0, 0, 0, 0, 0, 1, 0, 0, 0, 0, 0, 0, 0, 0, 0, 0, 0, 1, 0, 0, 1, 0, 0, 0, 0, 0, 0, 0, 0, 0, 0, 0, 0, 0, 1, 0, 1, 0, 0, 0, 0, 0, 0, 1, 0, 0, 0, 0, 0, 0, 1, 0, 0]\n"
          ]
        }
      ]
    },
    {
      "cell_type": "code",
      "source": [
        "# 5. Сохраняем результат\n",
        "df = pd.DataFrame(processed_train)\n",
        "df.to_csv(\"train_dataset.csv\", index=False)\n",
        "print(\"Сохранено train_dataset.csv\")"
      ],
      "metadata": {
        "colab": {
          "base_uri": "https://localhost:8080/"
        },
        "id": "Q_Je_1MJkdHX",
        "outputId": "df590c43-93ea-46ed-c144-55ad7b9e18ee"
      },
      "execution_count": 29,
      "outputs": [
        {
          "output_type": "stream",
          "name": "stdout",
          "text": [
            "Сохранено train_dataset.csv\n"
          ]
        }
      ]
    }
  ]
}
